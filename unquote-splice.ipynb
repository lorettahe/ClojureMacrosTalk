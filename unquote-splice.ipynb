{
 "cells": [
  {
   "cell_type": "markdown",
   "metadata": {},
   "source": [
    "说到写个宏吃进一段代码的话，来写个cond吧"
   ]
  },
  {
   "cell_type": "markdown",
   "metadata": {},
   "source": [
    "cond是if else if else if else ...的缩写"
   ]
  },
  {
   "cell_type": "code",
   "execution_count": 1,
   "metadata": {
    "collapsed": false
   },
   "outputs": [
    {
     "data": {
      "text/plain": [
       "(var user/cond-demo)"
      ]
     },
     "execution_count": 1,
     "metadata": {},
     "output_type": "execute_result"
    }
   ],
   "source": [
    "(defn cond-demo\n",
    "  [x]\n",
    "  (cond\n",
    "    (pos? x) (println \"大！\")\n",
    "    (zero? x) (println \"中！\")\n",
    "    :else (println \"小！\")))"
   ]
  },
  {
   "cell_type": "code",
   "execution_count": 2,
   "metadata": {
    "collapsed": false
   },
   "outputs": [
    {
     "name": "stdout",
     "output_type": "stream",
     "text": [
      "大！\n"
     ]
    },
    {
     "data": {
      "text/plain": []
     },
     "execution_count": 2,
     "metadata": {},
     "output_type": "execute_result"
    }
   ],
   "source": [
    "(cond-demo 5)"
   ]
  },
  {
   "cell_type": "code",
   "execution_count": 3,
   "metadata": {
    "collapsed": false
   },
   "outputs": [
    {
     "name": "stdout",
     "output_type": "stream",
     "text": [
      "中！\n"
     ]
    },
    {
     "data": {
      "text/plain": []
     },
     "execution_count": 3,
     "metadata": {},
     "output_type": "execute_result"
    }
   ],
   "source": [
    "(cond-demo 0)"
   ]
  },
  {
   "cell_type": "markdown",
   "metadata": {},
   "source": [
    "我们来自己用cond搞个cond看看，不为啥，就无聊（事实上是我想不出栗子了+懒）"
   ]
  },
  {
   "cell_type": "code",
   "execution_count": 4,
   "metadata": {
    "collapsed": false
   },
   "outputs": [
    {
     "data": {
      "text/plain": [
       "(var user/my-cond)"
      ]
     },
     "execution_count": 4,
     "metadata": {},
     "output_type": "execute_result"
    }
   ],
   "source": [
    "(defmacro my-cond\n",
    "  [& forms]\n",
    "  `(cond ~@forms))"
   ]
  },
  {
   "cell_type": "code",
   "execution_count": 5,
   "metadata": {
    "collapsed": false
   },
   "outputs": [
    {
     "data": {
      "text/plain": [
       "(var user/my-cond-demo)"
      ]
     },
     "execution_count": 5,
     "metadata": {},
     "output_type": "execute_result"
    }
   ],
   "source": [
    "(defn my-cond-demo\n",
    "  [x]\n",
    "  (my-cond\n",
    "    (pos? x) (println \"大！\")\n",
    "    (zero? x) (println \"中！\")\n",
    "    :else (println \"小！\")))"
   ]
  },
  {
   "cell_type": "code",
   "execution_count": 6,
   "metadata": {
    "collapsed": false
   },
   "outputs": [
    {
     "name": "stdout",
     "output_type": "stream",
     "text": [
      "大！\n"
     ]
    },
    {
     "data": {
      "text/plain": []
     },
     "execution_count": 6,
     "metadata": {},
     "output_type": "execute_result"
    }
   ],
   "source": [
    "(my-cond-demo 5)"
   ]
  },
  {
   "cell_type": "code",
   "execution_count": 7,
   "metadata": {
    "collapsed": false
   },
   "outputs": [
    {
     "data": {
      "text/plain": [
       "(clojure.core/cond (pos? 5) (println \"大！\") (zero? 5) (println \"中！\") :else (println \"小！\"))"
      ]
     },
     "execution_count": 7,
     "metadata": {},
     "output_type": "execute_result"
    }
   ],
   "source": [
    "(macroexpand-1 '(my-cond (pos? 5) (println \"大！\") (zero? 5) (println \"中！\") :else (println \"小！\")))"
   ]
  },
  {
   "cell_type": "markdown",
   "metadata": {},
   "source": [
    "如果不用~@，只用~的话。。"
   ]
  },
  {
   "cell_type": "code",
   "execution_count": 8,
   "metadata": {
    "collapsed": false
   },
   "outputs": [
    {
     "data": {
      "text/plain": [
       "(var user/my-bad-cond)"
      ]
     },
     "execution_count": 8,
     "metadata": {},
     "output_type": "execute_result"
    }
   ],
   "source": [
    "(defmacro my-bad-cond\n",
    "  [& forms]\n",
    "  `(cond ~forms))"
   ]
  },
  {
   "cell_type": "code",
   "execution_count": 9,
   "metadata": {
    "collapsed": false
   },
   "outputs": [
    {
     "ename": "class java.lang.IllegalArgumentException",
     "evalue": "IllegalArgumentException cond requires an even number of forms  clojure.core/cond (core.clj:574)\n",
     "output_type": "error",
     "traceback": [
      "#error {\n :cause cond requires an even number of forms\n :via\n [{:type java.lang.IllegalArgumentException\n   :message cond requires an even number of forms\n   :at [clojure.core$cond doInvoke core.clj 574]}]\n :trace\n [[clojure.core$cond doInvoke core.clj 574]\n  [clojure.lang.RestFn invoke RestFn.java 442]\n  [clojure.lang.Var invoke Var.java 388]\n  [clojure.lang.AFn applyToHelper AFn.java 160]\n  [clojure.lang.Var applyTo Var.java 700]\n  [clojure.lang.Compiler macroexpand1 Compiler.java 6631]\n  [clojure.lang.Compiler macroexpand Compiler.java 6692]\n  [clojure.lang.Compiler macroexpand Compiler.java 6694]\n  [clojure.lang.Compiler eval Compiler.java 6766]\n  [clojure.lang.Compiler eval Compiler.java 6745]\n  [clojure.core$eval invoke core.clj 3081]\n  [clojure.main$repl$read_eval_print__7099$fn__7102 invoke main.clj 240]\n  [clojure.main$repl$read_eval_print__7099 invoke main.clj 240]\n  [clojure.main$repl$fn__7108 invoke main.clj 258]\n  [clojure.main$repl doInvoke main.clj 258]\n  [clojure.lang.RestFn invoke RestFn.java 1523]\n  [clojure.tools.nrepl.middleware.interruptible_eval$evaluate$fn__741 invoke interruptible_eval.clj 58]\n  [clojure.lang.AFn applyToHelper AFn.java 152]\n  [clojure.lang.AFn applyTo AFn.java 144]\n  [clojure.core$apply invoke core.clj 630]\n  [clojure.core$with_bindings_STAR_ doInvoke core.clj 1868]\n  [clojure.lang.RestFn invoke RestFn.java 425]\n  [clojure.tools.nrepl.middleware.interruptible_eval$evaluate invoke interruptible_eval.clj 56]\n  [clojure.tools.nrepl.middleware.interruptible_eval$interruptible_eval$fn__783$fn__786 invoke interruptible_eval.clj 191]\n  [clojure.tools.nrepl.middleware.interruptible_eval$run_next$fn__778 invoke interruptible_eval.clj 159]\n  [clojure.lang.AFn run AFn.java 22]\n  [java.util.concurrent.ThreadPoolExecutor runWorker ThreadPoolExecutor.java 1142]\n  [java.util.concurrent.ThreadPoolExecutor$Worker run ThreadPoolExecutor.java 617]\n  [java.lang.Thread run Thread.java 745]]}\n"
     ]
    }
   ],
   "source": [
    "(my-bad-cond (pos? 5) (println \"大！\") (zero? 5) (println \"中！\") :else (println \"小！\"))"
   ]
  },
  {
   "cell_type": "code",
   "execution_count": 10,
   "metadata": {
    "collapsed": false
   },
   "outputs": [
    {
     "data": {
      "text/plain": [
       "(clojure.core/cond ((pos? 5) (println \"大！\") (zero? 5) (println \"中！\") :else (println \"小！\")))"
      ]
     },
     "execution_count": 10,
     "metadata": {},
     "output_type": "execute_result"
    }
   ],
   "source": [
    "(macroexpand-1 '(my-bad-cond (pos? 5) (println \"大！\") (zero? 5) (println \"中！\") :else (println \"小！\")))"
   ]
  },
  {
   "cell_type": "markdown",
   "metadata": {},
   "source": [
    "这就是我之前说list里面的东西没有一个一个被拿出来的意思。。。"
   ]
  }
 ],
 "metadata": {
  "kernelspec": {
   "display_name": "Clojure",
   "language": "clojure",
   "name": "clojure"
  },
  "language_info": {
   "file_extension": ".clj",
   "mimetype": "text/plain",
   "name": "clojure",
   "version": "1.5.1"
  }
 },
 "nbformat": 4,
 "nbformat_minor": 0
}
