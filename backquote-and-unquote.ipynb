{
 "cells": [
  {
   "cell_type": "markdown",
   "metadata": {},
   "source": [
    "先把之前写的那个丑丑的debug搬过来"
   ]
  },
  {
   "cell_type": "code",
   "execution_count": 4,
   "metadata": {
    "collapsed": false
   },
   "outputs": [
    {
     "data": {
      "text/plain": [
       "(var user/my-debug)"
      ]
     },
     "execution_count": 4,
     "metadata": {},
     "output_type": "execute_result"
    }
   ],
   "source": [
    "(defmacro my-debug\n",
    "  [expr]\n",
    "  (list 'let ['result expr]\n",
    "        (list 'println (list 'quote expr)) \"=\" 'result)\n",
    "        'result))"
   ]
  },
  {
   "cell_type": "markdown",
   "metadata": {},
   "source": [
    "用backquote试试"
   ]
  },
  {
   "cell_type": "code",
   "execution_count": 5,
   "metadata": {
    "collapsed": false
   },
   "outputs": [
    {
     "data": {
      "text/plain": [
       "(var user/my-new-debug)"
      ]
     },
     "execution_count": 5,
     "metadata": {},
     "output_type": "execute_result"
    }
   ],
   "source": [
    "(defmacro my-new-debug\n",
    "  [expr]\n",
    "  `(let [result expr]\n",
    "     (println (quote expr) \"=\" result)\n",
    "     result))"
   ]
  },
  {
   "cell_type": "code",
   "execution_count": 6,
   "metadata": {
    "collapsed": false
   },
   "outputs": [
    {
     "ename": "class clojure.lang.Compiler$CompilerException",
     "evalue": "CompilerException java.lang.RuntimeException: Can't let qualified name: user/result, compiling:(NO_SOURCE_PATH:1:1) \n",
     "output_type": "error",
     "traceback": [
      "#error {\n :cause Can't let qualified name: user/result\n :via\n [{:type clojure.lang.Compiler$CompilerException\n   :message java.lang.RuntimeException: Can't let qualified name: user/result, compiling:(NO_SOURCE_PATH:1:1)\n   :at [clojure.lang.Compiler analyzeSeq Compiler.java 6730]}\n  {:type java.lang.RuntimeException\n   :message Can't let qualified name: user/result\n   :at [clojure.lang.Util runtimeException Util.java 221]}]\n :trace\n [[clojure.lang.Util runtimeException Util.java 221]\n  [clojure.lang.Compiler$LetExpr$Parser parse Compiler.java 6128]\n  [clojure.lang.Compiler analyzeSeq Compiler.java 6723]\n  [clojure.lang.Compiler analyze Compiler.java 6524]\n  [clojure.lang.Compiler analyze Compiler.java 6485]\n  [clojure.lang.Compiler$BodyExpr$Parser parse Compiler.java 5861]\n  [clojure.lang.Compiler$FnMethod parse Compiler.java 5296]\n  [clojure.lang.Compiler$FnExpr parse Compiler.java 3925]\n  [clojure.lang.Compiler analyzeSeq Compiler.java 6721]\n  [clojure.lang.Compiler analyze Compiler.java 6524]\n  [clojure.lang.Compiler eval Compiler.java 6779]\n  [clojure.lang.Compiler eval Compiler.java 6745]\n  [clojure.core$eval invoke core.clj 3081]\n  [clojure.main$repl$read_eval_print__7099$fn__7102 invoke main.clj 240]\n  [clojure.main$repl$read_eval_print__7099 invoke main.clj 240]\n  [clojure.main$repl$fn__7108 invoke main.clj 258]\n  [clojure.main$repl doInvoke main.clj 258]\n  [clojure.lang.RestFn invoke RestFn.java 1523]\n  [clojure.tools.nrepl.middleware.interruptible_eval$evaluate$fn__741 invoke interruptible_eval.clj 58]\n  [clojure.lang.AFn applyToHelper AFn.java 152]\n  [clojure.lang.AFn applyTo AFn.java 144]\n  [clojure.core$apply invoke core.clj 630]\n  [clojure.core$with_bindings_STAR_ doInvoke core.clj 1868]\n  [clojure.lang.RestFn invoke RestFn.java 425]\n  [clojure.tools.nrepl.middleware.interruptible_eval$evaluate invoke interruptible_eval.clj 56]\n  [clojure.tools.nrepl.middleware.interruptible_eval$interruptible_eval$fn__783$fn__786 invoke interruptible_eval.clj 191]\n  [clojure.tools.nrepl.middleware.interruptible_eval$run_next$fn__778 invoke interruptible_eval.clj 159]\n  [clojure.lang.AFn run AFn.java 22]\n  [java.util.concurrent.ThreadPoolExecutor runWorker ThreadPoolExecutor.java 1142]\n  [java.util.concurrent.ThreadPoolExecutor$Worker run ThreadPoolExecutor.java 617]\n  [java.lang.Thread run Thread.java 745]]}\n"
     ]
    }
   ],
   "source": [
    "(my-new-debug (+ 1 2))"
   ]
  },
  {
   "cell_type": "markdown",
   "metadata": {},
   "source": [
    "呃。。。。啥？木有result？发生了什么？"
   ]
  },
  {
   "cell_type": "markdown",
   "metadata": {},
   "source": [
    "其实Clojure不能让你let user/result这个qualified name。 这里result不做点特殊处理的话，不能被当做let binding的对象。特殊处理是什么呢？就是#。为什么不能直接let呢？Clojure是为了防止variable capture这个问题。如果不用这个#的话，如果外面有一个名叫result的对象，在宏内就无法区分你是在指外面的对象还是想指宏这个了。"
   ]
  },
  {
   "cell_type": "markdown",
   "metadata": {},
   "source": [
    "如果我们一定要用result来bind咋办？"
   ]
  },
  {
   "cell_type": "code",
   "execution_count": 7,
   "metadata": {
    "collapsed": false
   },
   "outputs": [
    {
     "data": {
      "text/plain": [
       "(var user/my-new-debug-bad)"
      ]
     },
     "execution_count": 7,
     "metadata": {},
     "output_type": "execute_result"
    }
   ],
   "source": [
    "(defmacro my-new-debug-bad\n",
    "  [expr]\n",
    "  (list 'let ['result expr]\n",
    "    (list 'println (list 'quote expr) \"=\" 'result)\n",
    "    'result))"
   ]
  },
  {
   "cell_type": "code",
   "execution_count": 8,
   "metadata": {
    "collapsed": false
   },
   "outputs": [
    {
     "data": {
      "text/plain": [
       "(var user/result)"
      ]
     },
     "execution_count": 8,
     "metadata": {},
     "output_type": "execute_result"
    }
   ],
   "source": [
    "(def result 7)"
   ]
  },
  {
   "cell_type": "code",
   "execution_count": 9,
   "metadata": {
    "collapsed": false
   },
   "outputs": [
    {
     "name": "stdout",
     "output_type": "stream",
     "text": [
      "(+ 1 2) = 3\n"
     ]
    },
    {
     "data": {
      "text/plain": [
       "3"
      ]
     },
     "execution_count": 9,
     "metadata": {},
     "output_type": "execute_result"
    }
   ],
   "source": [
    "(my-new-debug-bad (+ 1 2))"
   ]
  },
  {
   "cell_type": "markdown",
   "metadata": {},
   "source": [
    "呐，我们原来定义过的result就被“遮掉了”，要是我们的原意本来就是想要外面那个result咋办？这个就叫variable capture。。那我们老老实实用#吧"
   ]
  },
  {
   "cell_type": "code",
   "execution_count": 10,
   "metadata": {
    "collapsed": false
   },
   "outputs": [
    {
     "data": {
      "text/plain": [
       "(var user/my-new-debug)"
      ]
     },
     "execution_count": 10,
     "metadata": {},
     "output_type": "execute_result"
    }
   ],
   "source": [
    "(defmacro my-new-debug\n",
    "  [expr]\n",
    "  `(let [result# expr]\n",
    "     (println (quote expr) \"=\" result#)\n",
    "     result))"
   ]
  },
  {
   "cell_type": "code",
   "execution_count": 11,
   "metadata": {
    "collapsed": false
   },
   "outputs": [
    {
     "ename": "class clojure.lang.Compiler$CompilerException",
     "evalue": "CompilerException java.lang.RuntimeException: No such var: user/expr, compiling:(NO_SOURCE_PATH:1:1) \n",
     "output_type": "error",
     "traceback": [
      "#error {\n :cause No such var: user/expr\n :via\n [{:type clojure.lang.Compiler$CompilerException\n   :message java.lang.RuntimeException: No such var: user/expr, compiling:(NO_SOURCE_PATH:1:1)\n   :at [clojure.lang.Compiler analyze Compiler.java 6543]}\n  {:type java.lang.RuntimeException\n   :message No such var: user/expr\n   :at [clojure.lang.Util runtimeException Util.java 221]}]\n :trace\n [[clojure.lang.Util runtimeException Util.java 221]\n  [clojure.lang.Compiler resolveIn Compiler.java 6993]\n  [clojure.lang.Compiler resolve Compiler.java 6963]\n  [clojure.lang.Compiler analyzeSymbol Compiler.java 6924]\n  [clojure.lang.Compiler analyze Compiler.java 6506]\n  [clojure.lang.Compiler access$300 Compiler.java 38]\n  [clojure.lang.Compiler$LetExpr$Parser parse Compiler.java 6129]\n  [clojure.lang.Compiler analyzeSeq Compiler.java 6723]\n  [clojure.lang.Compiler analyze Compiler.java 6524]\n  [clojure.lang.Compiler analyze Compiler.java 6485]\n  [clojure.lang.Compiler$BodyExpr$Parser parse Compiler.java 5861]\n  [clojure.lang.Compiler$FnMethod parse Compiler.java 5296]\n  [clojure.lang.Compiler$FnExpr parse Compiler.java 3925]\n  [clojure.lang.Compiler analyzeSeq Compiler.java 6721]\n  [clojure.lang.Compiler analyze Compiler.java 6524]\n  [clojure.lang.Compiler eval Compiler.java 6779]\n  [clojure.lang.Compiler eval Compiler.java 6745]\n  [clojure.core$eval invoke core.clj 3081]\n  [clojure.main$repl$read_eval_print__7099$fn__7102 invoke main.clj 240]\n  [clojure.main$repl$read_eval_print__7099 invoke main.clj 240]\n  [clojure.main$repl$fn__7108 invoke main.clj 258]\n  [clojure.main$repl doInvoke main.clj 258]\n  [clojure.lang.RestFn invoke RestFn.java 1523]\n  [clojure.tools.nrepl.middleware.interruptible_eval$evaluate$fn__741 invoke interruptible_eval.clj 58]\n  [clojure.lang.AFn applyToHelper AFn.java 152]\n  [clojure.lang.AFn applyTo AFn.java 144]\n  [clojure.core$apply invoke core.clj 630]\n  [clojure.core$with_bindings_STAR_ doInvoke core.clj 1868]\n  [clojure.lang.RestFn invoke RestFn.java 425]\n  [clojure.tools.nrepl.middleware.interruptible_eval$evaluate invoke interruptible_eval.clj 56]\n  [clojure.tools.nrepl.middleware.interruptible_eval$interruptible_eval$fn__783$fn__786 invoke interruptible_eval.clj 191]\n  [clojure.tools.nrepl.middleware.interruptible_eval$run_next$fn__778 invoke interruptible_eval.clj 159]\n  [clojure.lang.AFn run AFn.java 22]\n  [java.util.concurrent.ThreadPoolExecutor runWorker ThreadPoolExecutor.java 1142]\n  [java.util.concurrent.ThreadPoolExecutor$Worker run ThreadPoolExecutor.java 617]\n  [java.lang.Thread run Thread.java 745]]}\n"
     ]
    }
   ],
   "source": [
    "(my-new-debug (+ 1 2))"
   ]
  },
  {
   "cell_type": "markdown",
   "metadata": {},
   "source": [
    "你们肯定在想，怎么还没写好啊！expr又出啥事儿了？！咱们用macroexpand-1来看看。。"
   ]
  },
  {
   "cell_type": "code",
   "execution_count": 12,
   "metadata": {
    "collapsed": false
   },
   "outputs": [
    {
     "data": {
      "text/plain": [
       "(clojure.core/let [result__42__auto__ user/expr] (clojure.core/println (quote user/expr) \"=\" result__42__auto__) user/result)"
      ]
     },
     "execution_count": 12,
     "metadata": {},
     "output_type": "execute_result"
    }
   ],
   "source": [
    "(macroexpand-1 '(my-new-debug (+ 1 2)))"
   ]
  },
  {
   "cell_type": "markdown",
   "metadata": {},
   "source": [
    "这里expr没有被evaluate。。因为我们没有unquote！"
   ]
  },
  {
   "cell_type": "code",
   "execution_count": 13,
   "metadata": {
    "collapsed": false
   },
   "outputs": [
    {
     "data": {
      "text/plain": [
       "(var user/my-new-debug)"
      ]
     },
     "execution_count": 13,
     "metadata": {},
     "output_type": "execute_result"
    }
   ],
   "source": [
    "(defmacro my-new-debug\n",
    "  [expr]\n",
    "  `(let [result# ~expr]\n",
    "     (println (quote ~expr) \"=\" result#)\n",
    "     result#))"
   ]
  },
  {
   "cell_type": "code",
   "execution_count": 14,
   "metadata": {
    "collapsed": false
   },
   "outputs": [
    {
     "name": "stdout",
     "output_type": "stream",
     "text": [
      "(+ 1 2) = 3\n"
     ]
    },
    {
     "data": {
      "text/plain": [
       "3"
      ]
     },
     "execution_count": 14,
     "metadata": {},
     "output_type": "execute_result"
    }
   ],
   "source": [
    "(my-new-debug (+ 1 2))"
   ]
  },
  {
   "cell_type": "markdown",
   "metadata": {},
   "source": [
    "耶！我们的debug宏写完辣！然而。。。"
   ]
  }
 ],
 "metadata": {
  "kernelspec": {
   "display_name": "Clojure",
   "language": "clojure",
   "name": "clojure"
  },
  "language_info": {
   "file_extension": ".clj",
   "mimetype": "text/plain",
   "name": "clojure",
   "version": "1.5.1"
  }
 },
 "nbformat": 4,
 "nbformat_minor": 0
}
